{
 "cells": [
  {
   "cell_type": "markdown",
   "metadata": {},
   "source": [
    "# 抽取式文本摘要生成"
   ]
  },
  {
   "cell_type": "markdown",
   "metadata": {},
   "source": [
    "## tf idf"
   ]
  },
  {
   "cell_type": "code",
   "execution_count": 4,
   "metadata": {},
   "outputs": [],
   "source": [
    "docA=\"The cat sat on my face\"\n",
    "docB=\"The dog sat on my bed\""
   ]
  },
  {
   "cell_type": "code",
   "execution_count": 5,
   "metadata": {},
   "outputs": [],
   "source": [
    "bowA=docA.split()\n",
    "bowB=docB.split()"
   ]
  },
  {
   "cell_type": "code",
   "execution_count": 6,
   "metadata": {},
   "outputs": [
    {
     "data": {
      "text/plain": [
       "['The', 'dog', 'sat', 'on', 'my', 'bed']"
      ]
     },
     "execution_count": 6,
     "metadata": {},
     "output_type": "execute_result"
    }
   ],
   "source": [
    "bowB"
   ]
  },
  {
   "cell_type": "code",
   "execution_count": 7,
   "metadata": {},
   "outputs": [
    {
     "data": {
      "text/plain": [
       "['The', 'cat', 'sat', 'on', 'my', 'face']"
      ]
     },
     "execution_count": 7,
     "metadata": {},
     "output_type": "execute_result"
    }
   ],
   "source": [
    "bowA"
   ]
  },
  {
   "cell_type": "code",
   "execution_count": 8,
   "metadata": {},
   "outputs": [],
   "source": [
    "wordSet=set(bowA).union(set(bowB))"
   ]
  },
  {
   "cell_type": "code",
   "execution_count": 9,
   "metadata": {},
   "outputs": [
    {
     "data": {
      "text/plain": [
       "{'The', 'bed', 'cat', 'dog', 'face', 'my', 'on', 'sat'}"
      ]
     },
     "execution_count": 9,
     "metadata": {},
     "output_type": "execute_result"
    }
   ],
   "source": [
    "wordSet"
   ]
  },
  {
   "cell_type": "code",
   "execution_count": 17,
   "metadata": {},
   "outputs": [],
   "source": [
    "a=[i for i in range(8)]\n",
    "a={0,1,2,3,4,5,6,7}"
   ]
  },
  {
   "cell_type": "code",
   "execution_count": 20,
   "metadata": {},
   "outputs": [],
   "source": [
    "wordDictA=dict.fromkeys(wordSet,0)\n",
    "wordDictB=dict.fromkeys(wordSet,0)"
   ]
  },
  {
   "cell_type": "code",
   "execution_count": 21,
   "metadata": {},
   "outputs": [
    {
     "data": {
      "text/plain": [
       "{'sat': 0, 'The': 0, 'my': 0, 'face': 0, 'dog': 0, 'cat': 0, 'on': 0, 'bed': 0}"
      ]
     },
     "execution_count": 21,
     "metadata": {},
     "output_type": "execute_result"
    }
   ],
   "source": [
    "wordDictA"
   ]
  },
  {
   "cell_type": "code",
   "execution_count": 22,
   "metadata": {},
   "outputs": [
    {
     "data": {
      "text/plain": [
       "{'sat': 0, 'The': 0, 'my': 0, 'face': 0, 'dog': 0, 'cat': 0, 'on': 0, 'bed': 0}"
      ]
     },
     "execution_count": 22,
     "metadata": {},
     "output_type": "execute_result"
    }
   ],
   "source": [
    "wordDictB"
   ]
  },
  {
   "cell_type": "code",
   "execution_count": 25,
   "metadata": {},
   "outputs": [],
   "source": [
    "for word in bowA:\n",
    "    wordDictA[word]+=1\n",
    "for word in bowB:\n",
    "    wordDictB[word]+=1"
   ]
  },
  {
   "cell_type": "code",
   "execution_count": 26,
   "metadata": {},
   "outputs": [
    {
     "data": {
      "text/html": [
       "<div>\n",
       "<style scoped>\n",
       "    .dataframe tbody tr th:only-of-type {\n",
       "        vertical-align: middle;\n",
       "    }\n",
       "\n",
       "    .dataframe tbody tr th {\n",
       "        vertical-align: top;\n",
       "    }\n",
       "\n",
       "    .dataframe thead th {\n",
       "        text-align: right;\n",
       "    }\n",
       "</style>\n",
       "<table border=\"1\" class=\"dataframe\">\n",
       "  <thead>\n",
       "    <tr style=\"text-align: right;\">\n",
       "      <th></th>\n",
       "      <th>sat</th>\n",
       "      <th>The</th>\n",
       "      <th>my</th>\n",
       "      <th>face</th>\n",
       "      <th>dog</th>\n",
       "      <th>cat</th>\n",
       "      <th>on</th>\n",
       "      <th>bed</th>\n",
       "    </tr>\n",
       "  </thead>\n",
       "  <tbody>\n",
       "    <tr>\n",
       "      <th>0</th>\n",
       "      <td>1</td>\n",
       "      <td>1</td>\n",
       "      <td>1</td>\n",
       "      <td>1</td>\n",
       "      <td>0</td>\n",
       "      <td>1</td>\n",
       "      <td>1</td>\n",
       "      <td>0</td>\n",
       "    </tr>\n",
       "    <tr>\n",
       "      <th>1</th>\n",
       "      <td>1</td>\n",
       "      <td>1</td>\n",
       "      <td>1</td>\n",
       "      <td>0</td>\n",
       "      <td>1</td>\n",
       "      <td>0</td>\n",
       "      <td>1</td>\n",
       "      <td>1</td>\n",
       "    </tr>\n",
       "  </tbody>\n",
       "</table>\n",
       "</div>"
      ],
      "text/plain": [
       "   sat  The  my  face  dog  cat  on  bed\n",
       "0    1    1   1     1    0    1   1    0\n",
       "1    1    1   1     0    1    0   1    1"
      ]
     },
     "execution_count": 26,
     "metadata": {},
     "output_type": "execute_result"
    }
   ],
   "source": [
    "import pandas as pd\n",
    "pd.DataFrame([wordDictA,wordDictB])"
   ]
  },
  {
   "cell_type": "code",
   "execution_count": 27,
   "metadata": {},
   "outputs": [],
   "source": [
    "def computeTF(wordDict,bow):\n",
    "    tfDict={}\n",
    "    bowCount=len(bow)\n",
    "    for word,count in wordDict.items():\n",
    "        tfDict[word]=count/float(bowCount)\n",
    "    return tfDict"
   ]
  },
  {
   "cell_type": "code",
   "execution_count": 28,
   "metadata": {},
   "outputs": [],
   "source": [
    "tfBowA=computeTF(wordDictA,bowA)\n",
    "tfBowB=computeTF(wordDictB,bowB)"
   ]
  },
  {
   "cell_type": "code",
   "execution_count": 29,
   "metadata": {},
   "outputs": [
    {
     "data": {
      "text/plain": [
       "{'sat': 0.16666666666666666,\n",
       " 'The': 0.16666666666666666,\n",
       " 'my': 0.16666666666666666,\n",
       " 'face': 0.16666666666666666,\n",
       " 'dog': 0.0,\n",
       " 'cat': 0.16666666666666666,\n",
       " 'on': 0.16666666666666666,\n",
       " 'bed': 0.0}"
      ]
     },
     "execution_count": 29,
     "metadata": {},
     "output_type": "execute_result"
    }
   ],
   "source": [
    "tfBowA"
   ]
  },
  {
   "cell_type": "code",
   "execution_count": 30,
   "metadata": {},
   "outputs": [
    {
     "data": {
      "text/plain": [
       "{'sat': 0.16666666666666666,\n",
       " 'The': 0.16666666666666666,\n",
       " 'my': 0.16666666666666666,\n",
       " 'face': 0.0,\n",
       " 'dog': 0.16666666666666666,\n",
       " 'cat': 0.0,\n",
       " 'on': 0.16666666666666666,\n",
       " 'bed': 0.16666666666666666}"
      ]
     },
     "execution_count": 30,
     "metadata": {},
     "output_type": "execute_result"
    }
   ],
   "source": [
    "tfBowB"
   ]
  },
  {
   "cell_type": "code",
   "execution_count": 36,
   "metadata": {},
   "outputs": [],
   "source": [
    "#计算逆向文件频率\n",
    "def computeIDF(docList):\n",
    "    import math\n",
    "    idfDict={}\n",
    "    N=len(docList)\n",
    "    \n",
    "    idfDict=dict.fromkeys(docList[0].keys(),0)\n",
    "    for doc in docList:\n",
    "        for word,val in doc.items():\n",
    "            if val>0:\n",
    "                idfDict[word]+=1\n",
    "    for word,val in idfDict.items():\n",
    "        idfDict[word]=math.log10(N/float(val))\n",
    "        \n",
    "    return idfDict"
   ]
  },
  {
   "cell_type": "code",
   "execution_count": 37,
   "metadata": {},
   "outputs": [],
   "source": [
    "idfs=computeIDF([wordDictA,wordDictB])"
   ]
  },
  {
   "cell_type": "code",
   "execution_count": 38,
   "metadata": {},
   "outputs": [
    {
     "data": {
      "text/plain": [
       "{'sat': 0.0,\n",
       " 'The': 0.0,\n",
       " 'my': 0.0,\n",
       " 'face': 0.3010299956639812,\n",
       " 'dog': 0.3010299956639812,\n",
       " 'cat': 0.3010299956639812,\n",
       " 'on': 0.0,\n",
       " 'bed': 0.3010299956639812}"
      ]
     },
     "execution_count": 38,
     "metadata": {},
     "output_type": "execute_result"
    }
   ],
   "source": [
    "idfs"
   ]
  },
  {
   "cell_type": "code",
   "execution_count": 39,
   "metadata": {},
   "outputs": [],
   "source": [
    "def computeTFIDF(tfBow,ifds):\n",
    "    tfidf={}\n",
    "    for word,val in tfBow.items():\n",
    "        tfidf[word]=val*idfs[word]\n",
    "    return tfidf"
   ]
  },
  {
   "cell_type": "code",
   "execution_count": 40,
   "metadata": {},
   "outputs": [],
   "source": [
    "tfidfBowB=computeTFIDF(tfBowB,idfs)"
   ]
  },
  {
   "cell_type": "code",
   "execution_count": 41,
   "metadata": {},
   "outputs": [
    {
     "data": {
      "text/plain": [
       "{'sat': 0.0,\n",
       " 'The': 0.0,\n",
       " 'my': 0.0,\n",
       " 'face': 0.050171665943996864,\n",
       " 'dog': 0.0,\n",
       " 'cat': 0.050171665943996864,\n",
       " 'on': 0.0,\n",
       " 'bed': 0.0}"
      ]
     },
     "execution_count": 41,
     "metadata": {},
     "output_type": "execute_result"
    }
   ],
   "source": [
    "tfidfBowA"
   ]
  },
  {
   "cell_type": "code",
   "execution_count": 42,
   "metadata": {},
   "outputs": [
    {
     "data": {
      "text/plain": [
       "{'sat': 0.0,\n",
       " 'The': 0.0,\n",
       " 'my': 0.0,\n",
       " 'face': 0.0,\n",
       " 'dog': 0.050171665943996864,\n",
       " 'cat': 0.0,\n",
       " 'on': 0.0,\n",
       " 'bed': 0.050171665943996864}"
      ]
     },
     "execution_count": 42,
     "metadata": {},
     "output_type": "execute_result"
    }
   ],
   "source": [
    "tfidfBowB"
   ]
  },
  {
   "cell_type": "code",
   "execution_count": 43,
   "metadata": {},
   "outputs": [
    {
     "data": {
      "text/html": [
       "<div>\n",
       "<style scoped>\n",
       "    .dataframe tbody tr th:only-of-type {\n",
       "        vertical-align: middle;\n",
       "    }\n",
       "\n",
       "    .dataframe tbody tr th {\n",
       "        vertical-align: top;\n",
       "    }\n",
       "\n",
       "    .dataframe thead th {\n",
       "        text-align: right;\n",
       "    }\n",
       "</style>\n",
       "<table border=\"1\" class=\"dataframe\">\n",
       "  <thead>\n",
       "    <tr style=\"text-align: right;\">\n",
       "      <th></th>\n",
       "      <th>sat</th>\n",
       "      <th>The</th>\n",
       "      <th>my</th>\n",
       "      <th>face</th>\n",
       "      <th>dog</th>\n",
       "      <th>cat</th>\n",
       "      <th>on</th>\n",
       "      <th>bed</th>\n",
       "    </tr>\n",
       "  </thead>\n",
       "  <tbody>\n",
       "    <tr>\n",
       "      <th>0</th>\n",
       "      <td>0.0</td>\n",
       "      <td>0.0</td>\n",
       "      <td>0.0</td>\n",
       "      <td>0.050172</td>\n",
       "      <td>0.000000</td>\n",
       "      <td>0.050172</td>\n",
       "      <td>0.0</td>\n",
       "      <td>0.000000</td>\n",
       "    </tr>\n",
       "    <tr>\n",
       "      <th>1</th>\n",
       "      <td>0.0</td>\n",
       "      <td>0.0</td>\n",
       "      <td>0.0</td>\n",
       "      <td>0.000000</td>\n",
       "      <td>0.050172</td>\n",
       "      <td>0.000000</td>\n",
       "      <td>0.0</td>\n",
       "      <td>0.050172</td>\n",
       "    </tr>\n",
       "  </tbody>\n",
       "</table>\n",
       "</div>"
      ],
      "text/plain": [
       "   sat  The   my      face       dog       cat   on       bed\n",
       "0  0.0  0.0  0.0  0.050172  0.000000  0.050172  0.0  0.000000\n",
       "1  0.0  0.0  0.0  0.000000  0.050172  0.000000  0.0  0.050172"
      ]
     },
     "execution_count": 43,
     "metadata": {},
     "output_type": "execute_result"
    }
   ],
   "source": [
    "pd.DataFrame([tfidfBowA,tfidfBowB])"
   ]
  },
  {
   "cell_type": "raw",
   "metadata": {},
   "source": [
    "sklearn包中包含了tfidf"
   ]
  },
  {
   "cell_type": "code",
   "execution_count": 51,
   "metadata": {},
   "outputs": [],
   "source": [
    "#导入TfidfVectorizer\n",
    "from sklearn.feature_extraction.text import TfidfVectorizer"
   ]
  },
  {
   "cell_type": "code",
   "execution_count": 52,
   "metadata": {},
   "outputs": [],
   "source": [
    "#实例化tf实例（具体参数还挺多的挺复杂）\n",
    "tv=TfidfVectorizer(use_idf=True,smooth_idf=True,norm=None)\n"
   ]
  },
  {
   "cell_type": "code",
   "execution_count": 53,
   "metadata": {},
   "outputs": [],
   "source": [
    "#输入训练集举证，每行表示一个文本\n",
    "train = [\"Chinese Beijing Chinese\",\n",
    "        \"Chinese Chinese Shanghai\",\n",
    "        \"Chinese Macao\",\n",
    "        \"Tokyo Japan Chinese\"]"
   ]
  },
  {
   "cell_type": "code",
   "execution_count": 54,
   "metadata": {},
   "outputs": [],
   "source": [
    "#训练，构建词汇表以及词项idf值，并将输入文本列表转换成VSM矩阵形式\n",
    "tv_fit=tv.fit_transform(train)"
   ]
  },
  {
   "cell_type": "code",
   "execution_count": 55,
   "metadata": {},
   "outputs": [
    {
     "data": {
      "text/plain": [
       "['beijing', 'chinese', 'japan', 'macao', 'shanghai', 'tokyo']"
      ]
     },
     "execution_count": 55,
     "metadata": {},
     "output_type": "execute_result"
    }
   ],
   "source": [
    "#查看一下构建的词汇表\n",
    "tv.get_feature_names()"
   ]
  },
  {
   "cell_type": "code",
   "execution_count": 56,
   "metadata": {},
   "outputs": [
    {
     "data": {
      "text/plain": [
       "array([[1.91629073, 2.        , 0.        , 0.        , 0.        ,\n",
       "        0.        ],\n",
       "       [0.        , 2.        , 0.        , 0.        , 1.91629073,\n",
       "        0.        ],\n",
       "       [0.        , 1.        , 0.        , 1.91629073, 0.        ,\n",
       "        0.        ],\n",
       "       [0.        , 1.        , 1.91629073, 0.        , 0.        ,\n",
       "        1.91629073]])"
      ]
     },
     "execution_count": 56,
     "metadata": {},
     "output_type": "execute_result"
    }
   ],
   "source": [
    "#查看输入文本列表的VSM矩阵\n",
    "tv_fit.toarray()"
   ]
  },
  {
   "cell_type": "markdown",
   "metadata": {},
   "source": [
    "## Sentence embeddings--SIF （拿预训练的词向量加权平均的一种方式）"
   ]
  },
  {
   "cell_type": "code",
   "execution_count": 58,
   "metadata": {},
   "outputs": [],
   "source": [
    "import numpy as np\n",
    "from sklearn.decomposition import PCA\n",
    "from typing import List"
   ]
  },
  {
   "cell_type": "code",
   "execution_count": 59,
   "metadata": {},
   "outputs": [],
   "source": [
    "class Word:\n",
    "    def __init__(self,text,vector):\n",
    "        self.text=text\n",
    "        self.vector=vector\n",
    "        \n",
    "    def __str__(self):\n",
    "        return self.text+':'+str(self.vector)\n",
    "    "
   ]
  },
  {
   "cell_type": "code",
   "execution_count": 60,
   "metadata": {},
   "outputs": [],
   "source": [
    "class Sentence:\n",
    "    def __init__(self,word_list):\n",
    "        self.word_list=word_list\n",
    "    def len(self):\n",
    "        return len(self.word_list)\n",
    "    def __str__(self):\n",
    "        word_str_list=[word.text for word in self.word_list]\n",
    "        return ' '.join(word_str_list)\n",
    "    def __repr__(self):\n",
    "        return self.__str__()\n",
    "    "
   ]
  },
  {
   "cell_type": "code",
   "execution_count": 61,
   "metadata": {},
   "outputs": [],
   "source": [
    "def get_word_frequency(word_text):\n",
    "    return 0.0001"
   ]
  },
  {
   "cell_type": "raw",
   "metadata": {},
   "source": [
    "文章声称找到一种简单且有效（simple but tough-to-beat basline）的基线模型。论文 （算法被称为SIF：smooth inverse frequency)\n",
    "方法的确很简单：每个句子先表达为所含词语embedding的加权平均；然后把句子放在一起找出最大主轴；最后从每个句子中移除掉这个最大主轴即可。"
   ]
  },
  {
   "cell_type": "code",
   "execution_count": 64,
   "metadata": {},
   "outputs": [],
   "source": [
    "def sentence_to_vec(sentence_list, embedding_size, a):\n",
    "    sentence_set = []\n",
    "    for sentence in sentence_list:\n",
    "        vs = np.zeros(embedding_size)\n",
    "        sentence_length = sentence.len()\n",
    "        for word in sentence.word_list:\n",
    "            a_value = a / (a + get_word_frequency(word.text))  # smooth inverse frequency, SIF\n",
    "            vs = np.add(vs, np.multiply(a_value, word.vector)) # vs += sif * word_vector\n",
    "        \n",
    "        vs = np.divide(vs, sentence_length)  # weighted average\n",
    "        sentence_set.append(vs)  # add to our existing re-calculated set of sentences\n",
    "    \n",
    "    # calculate PCA of this sentence set\n",
    "    pca = PCA()\n",
    "    pca.fit(np.array(sentence_set))\n",
    "    u=pca.components_[0]#the PCA vector\n",
    "    u=np.multiply(u,np.transpose(u)) #u*uT\n",
    "    \n",
    "    if len(u) < embedding_size:\n",
    "        for i in range(embedding_size-len(u)):\n",
    "            u=np.append(u,0) #add needed extension for multiplication below\n",
    "    #resulting sentence vectors,vs=vs-u*uT*vs\n",
    "    sentence_vecs=[]\n",
    "    for vs in sentence_set:\n",
    "        sub=np.multiply(u,vs)\n",
    "        sentence_vecs.append(np.subtract(vs,sub))\n",
    "    return sentence_vecs\n",
    "                       "
   ]
  },
  {
   "cell_type": "markdown",
   "metadata": {},
   "source": [
    "## textrank"
   ]
  },
  {
   "cell_type": "code",
   "execution_count": 77,
   "metadata": {},
   "outputs": [
    {
     "name": "stderr",
     "output_type": "stream",
     "text": [
      "[nltk_data] Downloading package punkt to\n",
      "[nltk_data]     C:\\Users\\Administrator\\AppData\\Roaming\\nltk_data...\n",
      "[nltk_data]   Package punkt is already up-to-date!\n"
     ]
    }
   ],
   "source": [
    "import numpy as np\n",
    "import pandas as pd\n",
    "import nltk\n",
    "from nltk.tokenize import sent_tokenize\n",
    "nltk.download('punkt') # one time execution\n",
    "import re"
   ]
  },
  {
   "cell_type": "code",
   "execution_count": 78,
   "metadata": {},
   "outputs": [],
   "source": [
    "df=pd.read_csv(r'D:\\数据\\数据集\\网球类文章\\tennis_articles_v4.csv',encoding='utf-8')"
   ]
  },
  {
   "cell_type": "code",
   "execution_count": 79,
   "metadata": {},
   "outputs": [
    {
     "data": {
      "text/html": [
       "<div>\n",
       "<style scoped>\n",
       "    .dataframe tbody tr th:only-of-type {\n",
       "        vertical-align: middle;\n",
       "    }\n",
       "\n",
       "    .dataframe tbody tr th {\n",
       "        vertical-align: top;\n",
       "    }\n",
       "\n",
       "    .dataframe thead th {\n",
       "        text-align: right;\n",
       "    }\n",
       "</style>\n",
       "<table border=\"1\" class=\"dataframe\">\n",
       "  <thead>\n",
       "    <tr style=\"text-align: right;\">\n",
       "      <th></th>\n",
       "      <th>article_id</th>\n",
       "      <th>article_text</th>\n",
       "      <th>source</th>\n",
       "    </tr>\n",
       "  </thead>\n",
       "  <tbody>\n",
       "    <tr>\n",
       "      <th>0</th>\n",
       "      <td>1</td>\n",
       "      <td>Maria Sharapova has basically no friends as te...</td>\n",
       "      <td>https://www.tennisworldusa.org/tennis/news/Mar...</td>\n",
       "    </tr>\n",
       "    <tr>\n",
       "      <th>1</th>\n",
       "      <td>2</td>\n",
       "      <td>BASEL, Switzerland (AP), Roger Federer advance...</td>\n",
       "      <td>http://www.tennis.com/pro-game/2018/10/copil-s...</td>\n",
       "    </tr>\n",
       "    <tr>\n",
       "      <th>2</th>\n",
       "      <td>3</td>\n",
       "      <td>Roger Federer has revealed that organisers of ...</td>\n",
       "      <td>https://scroll.in/field/899938/tennis-roger-fe...</td>\n",
       "    </tr>\n",
       "    <tr>\n",
       "      <th>3</th>\n",
       "      <td>4</td>\n",
       "      <td>Kei Nishikori will try to end his long losing ...</td>\n",
       "      <td>http://www.tennis.com/pro-game/2018/10/nishiko...</td>\n",
       "    </tr>\n",
       "    <tr>\n",
       "      <th>4</th>\n",
       "      <td>5</td>\n",
       "      <td>Federer, 37, first broke through on tour over ...</td>\n",
       "      <td>https://www.express.co.uk/sport/tennis/1036101...</td>\n",
       "    </tr>\n",
       "    <tr>\n",
       "      <th>5</th>\n",
       "      <td>6</td>\n",
       "      <td>Nadal has not played tennis since he was force...</td>\n",
       "      <td>https://www.express.co.uk/sport/tennis/1037119...</td>\n",
       "    </tr>\n",
       "    <tr>\n",
       "      <th>6</th>\n",
       "      <td>7</td>\n",
       "      <td>Tennis giveth, and tennis taketh away. The end...</td>\n",
       "      <td>http://www.tennis.com/pro-game/2018/10/tennisc...</td>\n",
       "    </tr>\n",
       "    <tr>\n",
       "      <th>7</th>\n",
       "      <td>8</td>\n",
       "      <td>Federer won the Swiss Indoors last week by bea...</td>\n",
       "      <td>https://www.express.co.uk/sport/tennis/1038186...</td>\n",
       "    </tr>\n",
       "  </tbody>\n",
       "</table>\n",
       "</div>"
      ],
      "text/plain": [
       "   article_id                                       article_text  \\\n",
       "0           1  Maria Sharapova has basically no friends as te...   \n",
       "1           2  BASEL, Switzerland (AP), Roger Federer advance...   \n",
       "2           3  Roger Federer has revealed that organisers of ...   \n",
       "3           4  Kei Nishikori will try to end his long losing ...   \n",
       "4           5  Federer, 37, first broke through on tour over ...   \n",
       "5           6  Nadal has not played tennis since he was force...   \n",
       "6           7  Tennis giveth, and tennis taketh away. The end...   \n",
       "7           8  Federer won the Swiss Indoors last week by bea...   \n",
       "\n",
       "                                              source  \n",
       "0  https://www.tennisworldusa.org/tennis/news/Mar...  \n",
       "1  http://www.tennis.com/pro-game/2018/10/copil-s...  \n",
       "2  https://scroll.in/field/899938/tennis-roger-fe...  \n",
       "3  http://www.tennis.com/pro-game/2018/10/nishiko...  \n",
       "4  https://www.express.co.uk/sport/tennis/1036101...  \n",
       "5  https://www.express.co.uk/sport/tennis/1037119...  \n",
       "6  http://www.tennis.com/pro-game/2018/10/tennisc...  \n",
       "7  https://www.express.co.uk/sport/tennis/1038186...  "
      ]
     },
     "execution_count": 79,
     "metadata": {},
     "output_type": "execute_result"
    }
   ],
   "source": [
    "df"
   ]
  },
  {
   "cell_type": "code",
   "execution_count": 84,
   "metadata": {},
   "outputs": [],
   "source": [
    "sentences=[]\n",
    "for s in df['article_text']:\n",
    "    sentences.append(sent_tokenize(s))"
   ]
  },
  {
   "cell_type": "code",
   "execution_count": 81,
   "metadata": {
    "collapsed": true,
    "jupyter": {
     "outputs_hidden": true
    }
   },
   "outputs": [
    {
     "data": {
      "text/plain": [
       "[['Maria Sharapova has basically no friends as tennis players on the WTA Tour.',\n",
       "  \"The Russian player has no problems in openly speaking about it and in a recent interview she said: 'I don't really hide any feelings too much.\",\n",
       "  'I think everyone knows this is my job here.',\n",
       "  \"When I'm on the courts or when I'm on the court playing, I'm a competitor and I want to beat every single person whether they're in the locker room or across the net.So I'm not the one to strike up a conversation about the weather and know that in the next few minutes I have to go and try to win a tennis match.\",\n",
       "  \"I'm a pretty competitive girl.\",\n",
       "  \"I say my hellos, but I'm not sending any players flowers as well.\",\n",
       "  \"Uhm, I'm not really friendly or close to many players.\",\n",
       "  \"I have not a lot of friends away from the courts.'\",\n",
       "  'When she said she is not really close to a lot of players, is that something strategic that she is doing?',\n",
       "  \"Is it different on the men's tour than the women's tour?\",\n",
       "  \"'No, not at all.\",\n",
       "  \"I think just because you're in the same sport doesn't mean that you have to be friends with everyone just because you're categorized, you're a tennis player, so you're going to get along with tennis players.\",\n",
       "  'I think every person has different interests.',\n",
       "  \"I have friends that have completely different jobs and interests, and I've met them in very different parts of my life.\",\n",
       "  \"I think everyone just thinks because we're tennis players we should be the greatest of friends.\",\n",
       "  'But ultimately tennis is just a very small part of what we do.',\n",
       "  \"There are so many other things that we're interested in, that we do.'\"],\n",
       " ['BASEL, Switzerland (AP), Roger Federer advanced to the 14th Swiss Indoors final of his career by beating seventh-seeded Daniil Medvedev 6-1, 6-4 on Saturday.',\n",
       "  'Seeking a ninth title at his hometown event, and a 99th overall, Federer will play 93th-ranked Marius Copil on Sunday.',\n",
       "  'Federer dominated the 20th-ranked Medvedev and had his first match-point chance to break serve again at 5-1.',\n",
       "  \"He then dropped his serve to love, and let another match point slip in Medvedev's next service game by netting a backhand.\",\n",
       "  'He clinched on his fourth chance when Medvedev netted from the baseline.',\n",
       "  'Copil upset expectations of a Federer final against Alexander Zverev in a 6-3, 6-7 (6), 6-4 win over the fifth-ranked German in the earlier semifinal.',\n",
       "  'The Romanian aims for a first title after arriving at Basel without a career win over a top-10 opponent.',\n",
       "  'Copil has two after also beating No.',\n",
       "  '6 Marin Cilic in the second round.',\n",
       "  'Copil fired 26 aces past Zverev and never dropped serve, clinching after 2 1/2 hours with a forehand volley winner to break Zverev for the second time in the semifinal.',\n",
       "  \"He came through two rounds of qualifying last weekend to reach the Basel main draw, including beating Zverev's older brother, Mischa.\",\n",
       "  'Federer had an easier time than in his only previous match against Medvedev, a three-setter at Shanghai two weeks ago.'],\n",
       " ['Roger Federer has revealed that organisers of the re-launched and condensed Davis Cup gave him three days to decide if he would commit to the controversial competition.',\n",
       "  'Speaking at the Swiss Indoors tournament where he will play in Sundays final against Romanian qualifier Marius Copil, the world number three said that given the impossibly short time frame to make a decision, he opted out of any commitment.',\n",
       "  '\"They only left me three days to decide\", Federer said.',\n",
       "  '\"I didn\\'t to have time to consult with all the people I had to consult.',\n",
       "  '\"I could not make a decision in that time, so I told them to do what they wanted.\"',\n",
       "  'The 20-time Grand Slam champion has voiced doubts about the wisdom of the one-week format to be introduced by organisers Kosmos, who have promised the International Tennis Federation up to $3 billion in prize money over the next quarter-century.',\n",
       "  'The competition is set to feature 18 countries in the November 18-24 finals in Madrid next year, and will replace the classic home-and-away ties played four times per year for decades.',\n",
       "  'Kosmos is headed by Barcelona footballer Gerard Pique, who is hoping fellow Spaniard Rafael Nadal will play in the upcoming event.',\n",
       "  \"Novak Djokovic has said he will give precedence to the ATP's intended re-launch of the defunct World Team Cup in January 2020, at various Australian venues.\",\n",
       "  'Major players feel that a big event in late November combined with one in January before the Australian Open will mean too much tennis and too little rest.',\n",
       "  'Federer said earlier this month in Shanghai in that his chances of playing the Davis Cup were all but non-existent.',\n",
       "  '\"I highly doubt it, of course.',\n",
       "  'We will see what happens,\" he said.',\n",
       "  '\"I do not think this was designed for me, anyhow.',\n",
       "  'This was designed for the future generation of players.\"',\n",
       "  'Argentina and Britain received wild cards to the new-look event, and will compete along with the four 2018 semi-finalists and the 12 teams who win qualifying rounds next February.',\n",
       "  '\"I don\\'t like being under that kind of pressure,\" Federer said of the deadline Kosmos handed him.'],\n",
       " ['Kei Nishikori will try to end his long losing streak in ATP finals and Kevin Anderson will go for his second title of the year at the Erste Bank Open on Sunday.',\n",
       "  'The fifth-seeded Nishikori reached his third final of 2018 after beating Mikhail Kukushkin of Kazakhstan 6-4, 6-3 in the semifinals.',\n",
       "  \"A winner of 11 ATP events, Nishikori hasn't triumphed since winning in Memphis in February 2016.\",\n",
       "  'He has lost eight straight finals since.',\n",
       "  'The second-seeded Anderson defeated Fernando Verdasco 6-3, 3-6, 6-4.',\n",
       "  'Anderson has a shot at a fifth career title and second of the year after winning in New York in February.',\n",
       "  'Nishikori leads Anderson 4-2 on career matchups, but the South African won their only previous meeting this year.',\n",
       "  'With a victory on Sunday, Anderson will qualify for the ATP Finals.',\n",
       "  'Currently in ninth place, Nishikori with a win could move to within 125 points of the cut for the eight-man event in London next month.',\n",
       "  'Nishikori held serve throughout against Kukushkin, who came through qualifying.',\n",
       "  'He used his first break point to close out the first set before going up 3-0 in the second and wrapping up the win on his first match point.',\n",
       "  'Against Verdasco, Anderson hit nine of his 19 aces in the opening set.',\n",
       "  \"The Spaniard broke Anderson twice in the second but didn't get another chance on the South African's serve in the final set.\"],\n",
       " ['Federer, 37, first broke through on tour over two decades ago and he has since gone on to enjoy a glittering career.',\n",
       "  'The 20-time Grand Slam winner is chasing his 99th ATP title at the Swiss Indoors this week and he faces Jan-Lennard Struff in the second round on Thursday (6pm BST).',\n",
       "  'Davenport enjoyed most of her success in the late 1990s and her third and final major tournament win came at the 2000 Australian Open.',\n",
       "  'But she claims the mentality of professional tennis players slowly began to change after the new millennium.',\n",
       "  '\"It seems pretty friendly right now,\" said Davenport.',\n",
       "  '\"I think there is a really nice environment and a great atmosphere, especially between some of the veteran players helping some of the younger players out.',\n",
       "  '\"It\\'s a very pleasant atmosphere, I\\'d have to say, around the locker rooms.',\n",
       "  '\"I felt like the best weeks that I had to get to know players when I was playing were the Fed Cup weeks or the Olympic weeks, not necessarily during the tournaments.',\n",
       "  '\"And even though maybe we had smaller teams, I still think we kept to ourselves quite a bit.',\n",
       "  '\"Not always, but I really feel like in the mid-2000 years there was a huge shift of the attitudes of the top players and being more friendly and being more giving, and a lot of that had to do with players like Roger coming up.',\n",
       "  '\"I just felt like it really kind of changed where people were a little bit, definitely in the 90s, a lot more quiet, into themselves, and then it started to become better.\"',\n",
       "  'Meanwhile, Federer is hoping he can improve his service game as he hunts his ninth Swiss Indoors title this week.',\n",
       "  '\"I didn\\'t serve very well [against first-round opponent Filip Kranjovic,\" Federer said.',\n",
       "  '\"I think I was misfiring the corners, I was not hitting the lines enough.',\n",
       "  '\"Clearly you make your life more difficult, but still I was up 6-2, 3-1, break points, so things could have ended very quickly today, even though I didn\\'t have the best serve percentage stats.',\n",
       "  '\"But maybe that\\'s exactly what caught up to me eventually.',\n",
       "  \"It's just getting used to it.\",\n",
       "  'This is where the first rounds can be tricky.\"'],\n",
       " ['Nadal has not played tennis since he was forced to retire from the US Open semi-finals against Juan Martin Del Porto with a knee injury.',\n",
       "  \"The world No 1 has been forced to miss Spain's Davis Cup clash with France and the Asian hard court season.\",\n",
       "  'But with the ATP World Tour Finals due to begin next month, Nadal is ready to prove his fitness before the season-ending event at the 02 Arena.',\n",
       "  'Nadal flew to Paris on Friday and footage from the Paris Masters official Twitter account shows the Spaniard smiling as he strides onto court for practice.',\n",
       "  'The Paris Masters draw has been made and Nadal will start his campaign on Tuesday or Wednesday against either Fernando Verdasco or Jeremy Chardy.',\n",
       "  'Nadal could then play defending champion Jack Sock in the third round before a potential quarter-final with either Borna Coric or Dominic Thiem.',\n",
       "  \"Nadal's appearance in Paris is a big boost to the tournament organisers who could see Roger Federer withdraw.\",\n",
       "  'Federer is in action at the Swiss Indoors in Basel and if he reaches the final, he could pull out of Paris in a bid to stay fresh for London.',\n",
       "  'But as it stands, Federer is in the draw and is scheduled to face either former world No 3 Milos Raonic or Jo-Wilfried Tsonga in the second round.',\n",
       "  \"Federer's projected route to the Paris final could also lead to matches against Kevin Anderson and Novak Djokovic.\",\n",
       "  'Djokovic could play Marco Cecchinato in the second round.',\n",
       "  'British No 1 Kyle Edmund is the 12th seed in Paris and will get underway in round two against either Karen Khachanov or Filip Krajinovic.'],\n",
       " ['Tennis giveth, and tennis taketh away.',\n",
       "  'The end of the season is finally in sight, and with so many players defending,or losing,huge chunks of points in Singapore, Zhuhai and London, podcast co-hosts Nina Pantic and Irina Falconi discuss the art of defending points (02:14).',\n",
       "  \"It's no secret that Jack Sock has struggled on the singles court this year (his record is 7-19).\",\n",
       "  'He could lose 1,400 points in the next few weeks, but instead of focusing on the negative, it can all be about perspective (06:28).',\n",
       "  \"Let's also not forget his two Grand Slam doubles triumphs this season.\",\n",
       "  'Two players, Stefanos Tsitsipas and Kyle Edmund, won their first career ATP titles last week (13:26).',\n",
       "  \"It's a big deal because you never forget your first.\",\n",
       "  'Irina looks back at her WTA title win in Bogota in 2016, and tells an unforgettable story about her semifinal drama (14:04).',\n",
       "  'In Singapore, one of the biggest storylines (aside from the matches, of course) has been the on-court coaching debate.',\n",
       "  'Nina and Irina give their opinions on what coaching should look like in the future, on both tours (18:55).'],\n",
       " ['Federer won the Swiss Indoors last week by beating Romanian qualifier Marius Copil in the final.',\n",
       "  'The 37-year-old claimed his 99th ATP title and is hunting the century in the French capital this week.',\n",
       "  'Federer has been handed a difficult draw where could could come across Kevin Anderson, Novak Djokovic and Rafael Nadal in the latter rounds.',\n",
       "  'But first the 20-time Grand Slam winner wants to train on the Paris Masters court this afternoon before deciding whether to appear for his opening match against either Milos Raonic or Jo-Wilfried Tsonga.',\n",
       "  '\"On Monday, I am free and will look how I feel,\" Federer said after winning the Swiss Indoors.',\n",
       "  '\"On Tuesday I will fly to Paris and train in the afternoon to be ready for my first match on Wednesday night.',\n",
       "  '\"I felt good all week and better every day.',\n",
       "  '\"We also had the impression that at this stage it might be better to play matches than to train.',\n",
       "  '\"And as long as I fear no injury, I play.\"',\n",
       "  \"Federer's success in Basel last week was the ninth time he has won his hometown tournament.\",\n",
       "  'And he was delighted to be watched on by all of his family and friends as he purchased 60 tickets for the final for those dearest to him.',\n",
       "  '\"My children, my parents, my sister and my team are all there,\" Federer added.',\n",
       "  '\"It is always very emotional for me to thank my team.',\n",
       "  'And sometimes it tilts with the emotions, sometimes I just stumble.',\n",
       "  '\"It means the world to me.',\n",
       "  'It makes me incredibly happy to win my home tournament and make people happy here.',\n",
       "  '\"I do not know if it\\'s maybe my last title, so today I try a lot more to absorb that and enjoy the moments much more consciously.',\n",
       "  '\"Maybe I should celebrate as if it were my last title.',\n",
       "  '\"There are very touching moments: seeing the ball children, the standing ovations, all the familiar faces in the audience.',\n",
       "  'Because it was not always easy in the last weeks.\"']]"
      ]
     },
     "execution_count": 81,
     "metadata": {},
     "output_type": "execute_result"
    }
   ],
   "source": [
    "sentences"
   ]
  },
  {
   "cell_type": "code",
   "execution_count": 85,
   "metadata": {},
   "outputs": [],
   "source": [
    "#把所有句子都放到了一个列表中\n",
    "sentences=[y for x in sentences for y in x]"
   ]
  },
  {
   "cell_type": "code",
   "execution_count": 86,
   "metadata": {
    "collapsed": true,
    "jupyter": {
     "outputs_hidden": true
    }
   },
   "outputs": [
    {
     "data": {
      "text/plain": [
       "['Maria Sharapova has basically no friends as tennis players on the WTA Tour.',\n",
       " \"The Russian player has no problems in openly speaking about it and in a recent interview she said: 'I don't really hide any feelings too much.\",\n",
       " 'I think everyone knows this is my job here.',\n",
       " \"When I'm on the courts or when I'm on the court playing, I'm a competitor and I want to beat every single person whether they're in the locker room or across the net.So I'm not the one to strike up a conversation about the weather and know that in the next few minutes I have to go and try to win a tennis match.\",\n",
       " \"I'm a pretty competitive girl.\",\n",
       " \"I say my hellos, but I'm not sending any players flowers as well.\",\n",
       " \"Uhm, I'm not really friendly or close to many players.\",\n",
       " \"I have not a lot of friends away from the courts.'\",\n",
       " 'When she said she is not really close to a lot of players, is that something strategic that she is doing?',\n",
       " \"Is it different on the men's tour than the women's tour?\",\n",
       " \"'No, not at all.\",\n",
       " \"I think just because you're in the same sport doesn't mean that you have to be friends with everyone just because you're categorized, you're a tennis player, so you're going to get along with tennis players.\",\n",
       " 'I think every person has different interests.',\n",
       " \"I have friends that have completely different jobs and interests, and I've met them in very different parts of my life.\",\n",
       " \"I think everyone just thinks because we're tennis players we should be the greatest of friends.\",\n",
       " 'But ultimately tennis is just a very small part of what we do.',\n",
       " \"There are so many other things that we're interested in, that we do.'\",\n",
       " 'BASEL, Switzerland (AP), Roger Federer advanced to the 14th Swiss Indoors final of his career by beating seventh-seeded Daniil Medvedev 6-1, 6-4 on Saturday.',\n",
       " 'Seeking a ninth title at his hometown event, and a 99th overall, Federer will play 93th-ranked Marius Copil on Sunday.',\n",
       " 'Federer dominated the 20th-ranked Medvedev and had his first match-point chance to break serve again at 5-1.',\n",
       " \"He then dropped his serve to love, and let another match point slip in Medvedev's next service game by netting a backhand.\",\n",
       " 'He clinched on his fourth chance when Medvedev netted from the baseline.',\n",
       " 'Copil upset expectations of a Federer final against Alexander Zverev in a 6-3, 6-7 (6), 6-4 win over the fifth-ranked German in the earlier semifinal.',\n",
       " 'The Romanian aims for a first title after arriving at Basel without a career win over a top-10 opponent.',\n",
       " 'Copil has two after also beating No.',\n",
       " '6 Marin Cilic in the second round.',\n",
       " 'Copil fired 26 aces past Zverev and never dropped serve, clinching after 2 1/2 hours with a forehand volley winner to break Zverev for the second time in the semifinal.',\n",
       " \"He came through two rounds of qualifying last weekend to reach the Basel main draw, including beating Zverev's older brother, Mischa.\",\n",
       " 'Federer had an easier time than in his only previous match against Medvedev, a three-setter at Shanghai two weeks ago.',\n",
       " 'Roger Federer has revealed that organisers of the re-launched and condensed Davis Cup gave him three days to decide if he would commit to the controversial competition.',\n",
       " 'Speaking at the Swiss Indoors tournament where he will play in Sundays final against Romanian qualifier Marius Copil, the world number three said that given the impossibly short time frame to make a decision, he opted out of any commitment.',\n",
       " '\"They only left me three days to decide\", Federer said.',\n",
       " '\"I didn\\'t to have time to consult with all the people I had to consult.',\n",
       " '\"I could not make a decision in that time, so I told them to do what they wanted.\"',\n",
       " 'The 20-time Grand Slam champion has voiced doubts about the wisdom of the one-week format to be introduced by organisers Kosmos, who have promised the International Tennis Federation up to $3 billion in prize money over the next quarter-century.',\n",
       " 'The competition is set to feature 18 countries in the November 18-24 finals in Madrid next year, and will replace the classic home-and-away ties played four times per year for decades.',\n",
       " 'Kosmos is headed by Barcelona footballer Gerard Pique, who is hoping fellow Spaniard Rafael Nadal will play in the upcoming event.',\n",
       " \"Novak Djokovic has said he will give precedence to the ATP's intended re-launch of the defunct World Team Cup in January 2020, at various Australian venues.\",\n",
       " 'Major players feel that a big event in late November combined with one in January before the Australian Open will mean too much tennis and too little rest.',\n",
       " 'Federer said earlier this month in Shanghai in that his chances of playing the Davis Cup were all but non-existent.',\n",
       " '\"I highly doubt it, of course.',\n",
       " 'We will see what happens,\" he said.',\n",
       " '\"I do not think this was designed for me, anyhow.',\n",
       " 'This was designed for the future generation of players.\"',\n",
       " 'Argentina and Britain received wild cards to the new-look event, and will compete along with the four 2018 semi-finalists and the 12 teams who win qualifying rounds next February.',\n",
       " '\"I don\\'t like being under that kind of pressure,\" Federer said of the deadline Kosmos handed him.',\n",
       " 'Kei Nishikori will try to end his long losing streak in ATP finals and Kevin Anderson will go for his second title of the year at the Erste Bank Open on Sunday.',\n",
       " 'The fifth-seeded Nishikori reached his third final of 2018 after beating Mikhail Kukushkin of Kazakhstan 6-4, 6-3 in the semifinals.',\n",
       " \"A winner of 11 ATP events, Nishikori hasn't triumphed since winning in Memphis in February 2016.\",\n",
       " 'He has lost eight straight finals since.',\n",
       " 'The second-seeded Anderson defeated Fernando Verdasco 6-3, 3-6, 6-4.',\n",
       " 'Anderson has a shot at a fifth career title and second of the year after winning in New York in February.',\n",
       " 'Nishikori leads Anderson 4-2 on career matchups, but the South African won their only previous meeting this year.',\n",
       " 'With a victory on Sunday, Anderson will qualify for the ATP Finals.',\n",
       " 'Currently in ninth place, Nishikori with a win could move to within 125 points of the cut for the eight-man event in London next month.',\n",
       " 'Nishikori held serve throughout against Kukushkin, who came through qualifying.',\n",
       " 'He used his first break point to close out the first set before going up 3-0 in the second and wrapping up the win on his first match point.',\n",
       " 'Against Verdasco, Anderson hit nine of his 19 aces in the opening set.',\n",
       " \"The Spaniard broke Anderson twice in the second but didn't get another chance on the South African's serve in the final set.\",\n",
       " 'Federer, 37, first broke through on tour over two decades ago and he has since gone on to enjoy a glittering career.',\n",
       " 'The 20-time Grand Slam winner is chasing his 99th ATP title at the Swiss Indoors this week and he faces Jan-Lennard Struff in the second round on Thursday (6pm BST).',\n",
       " 'Davenport enjoyed most of her success in the late 1990s and her third and final major tournament win came at the 2000 Australian Open.',\n",
       " 'But she claims the mentality of professional tennis players slowly began to change after the new millennium.',\n",
       " '\"It seems pretty friendly right now,\" said Davenport.',\n",
       " '\"I think there is a really nice environment and a great atmosphere, especially between some of the veteran players helping some of the younger players out.',\n",
       " '\"It\\'s a very pleasant atmosphere, I\\'d have to say, around the locker rooms.',\n",
       " '\"I felt like the best weeks that I had to get to know players when I was playing were the Fed Cup weeks or the Olympic weeks, not necessarily during the tournaments.',\n",
       " '\"And even though maybe we had smaller teams, I still think we kept to ourselves quite a bit.',\n",
       " '\"Not always, but I really feel like in the mid-2000 years there was a huge shift of the attitudes of the top players and being more friendly and being more giving, and a lot of that had to do with players like Roger coming up.',\n",
       " '\"I just felt like it really kind of changed where people were a little bit, definitely in the 90s, a lot more quiet, into themselves, and then it started to become better.\"',\n",
       " 'Meanwhile, Federer is hoping he can improve his service game as he hunts his ninth Swiss Indoors title this week.',\n",
       " '\"I didn\\'t serve very well [against first-round opponent Filip Kranjovic,\" Federer said.',\n",
       " '\"I think I was misfiring the corners, I was not hitting the lines enough.',\n",
       " '\"Clearly you make your life more difficult, but still I was up 6-2, 3-1, break points, so things could have ended very quickly today, even though I didn\\'t have the best serve percentage stats.',\n",
       " '\"But maybe that\\'s exactly what caught up to me eventually.',\n",
       " \"It's just getting used to it.\",\n",
       " 'This is where the first rounds can be tricky.\"',\n",
       " 'Nadal has not played tennis since he was forced to retire from the US Open semi-finals against Juan Martin Del Porto with a knee injury.',\n",
       " \"The world No 1 has been forced to miss Spain's Davis Cup clash with France and the Asian hard court season.\",\n",
       " 'But with the ATP World Tour Finals due to begin next month, Nadal is ready to prove his fitness before the season-ending event at the 02 Arena.',\n",
       " 'Nadal flew to Paris on Friday and footage from the Paris Masters official Twitter account shows the Spaniard smiling as he strides onto court for practice.',\n",
       " 'The Paris Masters draw has been made and Nadal will start his campaign on Tuesday or Wednesday against either Fernando Verdasco or Jeremy Chardy.',\n",
       " 'Nadal could then play defending champion Jack Sock in the third round before a potential quarter-final with either Borna Coric or Dominic Thiem.',\n",
       " \"Nadal's appearance in Paris is a big boost to the tournament organisers who could see Roger Federer withdraw.\",\n",
       " 'Federer is in action at the Swiss Indoors in Basel and if he reaches the final, he could pull out of Paris in a bid to stay fresh for London.',\n",
       " 'But as it stands, Federer is in the draw and is scheduled to face either former world No 3 Milos Raonic or Jo-Wilfried Tsonga in the second round.',\n",
       " \"Federer's projected route to the Paris final could also lead to matches against Kevin Anderson and Novak Djokovic.\",\n",
       " 'Djokovic could play Marco Cecchinato in the second round.',\n",
       " 'British No 1 Kyle Edmund is the 12th seed in Paris and will get underway in round two against either Karen Khachanov or Filip Krajinovic.',\n",
       " 'Tennis giveth, and tennis taketh away.',\n",
       " 'The end of the season is finally in sight, and with so many players defending,or losing,huge chunks of points in Singapore, Zhuhai and London, podcast co-hosts Nina Pantic and Irina Falconi discuss the art of defending points (02:14).',\n",
       " \"It's no secret that Jack Sock has struggled on the singles court this year (his record is 7-19).\",\n",
       " 'He could lose 1,400 points in the next few weeks, but instead of focusing on the negative, it can all be about perspective (06:28).',\n",
       " \"Let's also not forget his two Grand Slam doubles triumphs this season.\",\n",
       " 'Two players, Stefanos Tsitsipas and Kyle Edmund, won their first career ATP titles last week (13:26).',\n",
       " \"It's a big deal because you never forget your first.\",\n",
       " 'Irina looks back at her WTA title win in Bogota in 2016, and tells an unforgettable story about her semifinal drama (14:04).',\n",
       " 'In Singapore, one of the biggest storylines (aside from the matches, of course) has been the on-court coaching debate.',\n",
       " 'Nina and Irina give their opinions on what coaching should look like in the future, on both tours (18:55).',\n",
       " 'Federer won the Swiss Indoors last week by beating Romanian qualifier Marius Copil in the final.',\n",
       " 'The 37-year-old claimed his 99th ATP title and is hunting the century in the French capital this week.',\n",
       " 'Federer has been handed a difficult draw where could could come across Kevin Anderson, Novak Djokovic and Rafael Nadal in the latter rounds.',\n",
       " 'But first the 20-time Grand Slam winner wants to train on the Paris Masters court this afternoon before deciding whether to appear for his opening match against either Milos Raonic or Jo-Wilfried Tsonga.',\n",
       " '\"On Monday, I am free and will look how I feel,\" Federer said after winning the Swiss Indoors.',\n",
       " '\"On Tuesday I will fly to Paris and train in the afternoon to be ready for my first match on Wednesday night.',\n",
       " '\"I felt good all week and better every day.',\n",
       " '\"We also had the impression that at this stage it might be better to play matches than to train.',\n",
       " '\"And as long as I fear no injury, I play.\"',\n",
       " \"Federer's success in Basel last week was the ninth time he has won his hometown tournament.\",\n",
       " 'And he was delighted to be watched on by all of his family and friends as he purchased 60 tickets for the final for those dearest to him.',\n",
       " '\"My children, my parents, my sister and my team are all there,\" Federer added.',\n",
       " '\"It is always very emotional for me to thank my team.',\n",
       " 'And sometimes it tilts with the emotions, sometimes I just stumble.',\n",
       " '\"It means the world to me.',\n",
       " 'It makes me incredibly happy to win my home tournament and make people happy here.',\n",
       " '\"I do not know if it\\'s maybe my last title, so today I try a lot more to absorb that and enjoy the moments much more consciously.',\n",
       " '\"Maybe I should celebrate as if it were my last title.',\n",
       " '\"There are very touching moments: seeing the ball children, the standing ovations, all the familiar faces in the audience.',\n",
       " 'Because it was not always easy in the last weeks.\"']"
      ]
     },
     "execution_count": 86,
     "metadata": {},
     "output_type": "execute_result"
    }
   ],
   "source": [
    "sentences"
   ]
  },
  {
   "cell_type": "code",
   "execution_count": 87,
   "metadata": {},
   "outputs": [],
   "source": [
    "#remove punctuations,numbers and special characters\n",
    "clean_sentences=pd.Series(sentences).str.replace('[^a-zA-Z]',' ')\n",
    "\n",
    "#make alphabets lowercase\n",
    "chean_sentences=[s.lower() for s in clean_sentences]"
   ]
  },
  {
   "cell_type": "code",
   "execution_count": 88,
   "metadata": {},
   "outputs": [
    {
     "name": "stderr",
     "output_type": "stream",
     "text": [
      "[nltk_data] Downloading package stopwords to\n",
      "[nltk_data]     C:\\Users\\Administrator\\AppData\\Roaming\\nltk_data...\n",
      "[nltk_data]   Unzipping corpora\\stopwords.zip.\n"
     ]
    },
    {
     "data": {
      "text/plain": [
       "True"
      ]
     },
     "execution_count": 88,
     "metadata": {},
     "output_type": "execute_result"
    }
   ],
   "source": [
    "nltk.download('stopwords')#one time execution"
   ]
  },
  {
   "cell_type": "code",
   "execution_count": 89,
   "metadata": {},
   "outputs": [],
   "source": [
    "from nltk.corpus import stopwords\n",
    "stop_words=stopwords.words('english')"
   ]
  },
  {
   "cell_type": "code",
   "execution_count": 90,
   "metadata": {
    "collapsed": true,
    "jupyter": {
     "outputs_hidden": true
    }
   },
   "outputs": [
    {
     "data": {
      "text/plain": [
       "['i',\n",
       " 'me',\n",
       " 'my',\n",
       " 'myself',\n",
       " 'we',\n",
       " 'our',\n",
       " 'ours',\n",
       " 'ourselves',\n",
       " 'you',\n",
       " \"you're\",\n",
       " \"you've\",\n",
       " \"you'll\",\n",
       " \"you'd\",\n",
       " 'your',\n",
       " 'yours',\n",
       " 'yourself',\n",
       " 'yourselves',\n",
       " 'he',\n",
       " 'him',\n",
       " 'his',\n",
       " 'himself',\n",
       " 'she',\n",
       " \"she's\",\n",
       " 'her',\n",
       " 'hers',\n",
       " 'herself',\n",
       " 'it',\n",
       " \"it's\",\n",
       " 'its',\n",
       " 'itself',\n",
       " 'they',\n",
       " 'them',\n",
       " 'their',\n",
       " 'theirs',\n",
       " 'themselves',\n",
       " 'what',\n",
       " 'which',\n",
       " 'who',\n",
       " 'whom',\n",
       " 'this',\n",
       " 'that',\n",
       " \"that'll\",\n",
       " 'these',\n",
       " 'those',\n",
       " 'am',\n",
       " 'is',\n",
       " 'are',\n",
       " 'was',\n",
       " 'were',\n",
       " 'be',\n",
       " 'been',\n",
       " 'being',\n",
       " 'have',\n",
       " 'has',\n",
       " 'had',\n",
       " 'having',\n",
       " 'do',\n",
       " 'does',\n",
       " 'did',\n",
       " 'doing',\n",
       " 'a',\n",
       " 'an',\n",
       " 'the',\n",
       " 'and',\n",
       " 'but',\n",
       " 'if',\n",
       " 'or',\n",
       " 'because',\n",
       " 'as',\n",
       " 'until',\n",
       " 'while',\n",
       " 'of',\n",
       " 'at',\n",
       " 'by',\n",
       " 'for',\n",
       " 'with',\n",
       " 'about',\n",
       " 'against',\n",
       " 'between',\n",
       " 'into',\n",
       " 'through',\n",
       " 'during',\n",
       " 'before',\n",
       " 'after',\n",
       " 'above',\n",
       " 'below',\n",
       " 'to',\n",
       " 'from',\n",
       " 'up',\n",
       " 'down',\n",
       " 'in',\n",
       " 'out',\n",
       " 'on',\n",
       " 'off',\n",
       " 'over',\n",
       " 'under',\n",
       " 'again',\n",
       " 'further',\n",
       " 'then',\n",
       " 'once',\n",
       " 'here',\n",
       " 'there',\n",
       " 'when',\n",
       " 'where',\n",
       " 'why',\n",
       " 'how',\n",
       " 'all',\n",
       " 'any',\n",
       " 'both',\n",
       " 'each',\n",
       " 'few',\n",
       " 'more',\n",
       " 'most',\n",
       " 'other',\n",
       " 'some',\n",
       " 'such',\n",
       " 'no',\n",
       " 'nor',\n",
       " 'not',\n",
       " 'only',\n",
       " 'own',\n",
       " 'same',\n",
       " 'so',\n",
       " 'than',\n",
       " 'too',\n",
       " 'very',\n",
       " 's',\n",
       " 't',\n",
       " 'can',\n",
       " 'will',\n",
       " 'just',\n",
       " 'don',\n",
       " \"don't\",\n",
       " 'should',\n",
       " \"should've\",\n",
       " 'now',\n",
       " 'd',\n",
       " 'll',\n",
       " 'm',\n",
       " 'o',\n",
       " 're',\n",
       " 've',\n",
       " 'y',\n",
       " 'ain',\n",
       " 'aren',\n",
       " \"aren't\",\n",
       " 'couldn',\n",
       " \"couldn't\",\n",
       " 'didn',\n",
       " \"didn't\",\n",
       " 'doesn',\n",
       " \"doesn't\",\n",
       " 'hadn',\n",
       " \"hadn't\",\n",
       " 'hasn',\n",
       " \"hasn't\",\n",
       " 'haven',\n",
       " \"haven't\",\n",
       " 'isn',\n",
       " \"isn't\",\n",
       " 'ma',\n",
       " 'mightn',\n",
       " \"mightn't\",\n",
       " 'mustn',\n",
       " \"mustn't\",\n",
       " 'needn',\n",
       " \"needn't\",\n",
       " 'shan',\n",
       " \"shan't\",\n",
       " 'shouldn',\n",
       " \"shouldn't\",\n",
       " 'wasn',\n",
       " \"wasn't\",\n",
       " 'weren',\n",
       " \"weren't\",\n",
       " 'won',\n",
       " \"won't\",\n",
       " 'wouldn',\n",
       " \"wouldn't\"]"
      ]
     },
     "execution_count": 90,
     "metadata": {},
     "output_type": "execute_result"
    }
   ],
   "source": [
    "stop_words"
   ]
  },
  {
   "cell_type": "code",
   "execution_count": 95,
   "metadata": {},
   "outputs": [],
   "source": [
    "def remove_stopwords(sen):\n",
    "    sen_new=' '.join([i for i in sen if i not in stop_words])\n",
    "    return sen_new"
   ]
  },
  {
   "cell_type": "code",
   "execution_count": 96,
   "metadata": {},
   "outputs": [],
   "source": [
    "clean_sentences=[remove_stopwords(r.split()) for r in clean_sentences]"
   ]
  },
  {
   "cell_type": "code",
   "execution_count": 99,
   "metadata": {},
   "outputs": [
    {
     "name": "stdout",
     "output_type": "stream",
     "text": [
      "Collecting wget\n",
      "  Downloading wget-3.2.zip (10 kB)\n",
      "Building wheels for collected packages: wget\n",
      "  Building wheel for wget (setup.py): started\n",
      "  Building wheel for wget (setup.py): finished with status 'done'\n",
      "  Created wheel for wget: filename=wget-3.2-py3-none-any.whl size=9686 sha256=fa3c428082e68cb7d5345442317fa8cd44b536c21fd88f03bdbc45e6d19e9a7d\n",
      "  Stored in directory: c:\\users\\administrator\\appdata\\local\\pip\\cache\\wheels\\bd\\a8\\c3\\3cf2c14a1837a4e04bd98631724e81f33f462d86a1d895fae0\n",
      "Successfully built wget\n",
      "Installing collected packages: wget\n",
      "Successfully installed wget-3.2\n"
     ]
    }
   ],
   "source": [
    "! pip install wget"
   ]
  },
  {
   "cell_type": "code",
   "execution_count": 100,
   "metadata": {},
   "outputs": [
    {
     "name": "stderr",
     "output_type": "stream",
     "text": [
      "'wget' 不是内部或外部命令，也不是可运行的程序\n",
      "或批处理文件。\n"
     ]
    }
   ],
   "source": [
    "#download pretrained Glove word embeddings\n",
    "!wget http://nlp.stanford.edu/data/glove.6B.zip"
   ]
  },
  {
   "cell_type": "code",
   "execution_count": 102,
   "metadata": {},
   "outputs": [
    {
     "name": "stderr",
     "output_type": "stream",
     "text": [
      "'unzip' 不是内部或外部命令，也不是可运行的程序\n",
      "或批处理文件。\n"
     ]
    }
   ],
   "source": [
    "!unzip glove*.zip"
   ]
  },
  {
   "cell_type": "code",
   "execution_count": 104,
   "metadata": {},
   "outputs": [],
   "source": [
    "#Extract word vectors\n",
    "word_embeddings={}\n",
    "f=open(r'D:\\数据\\数据集\\glove词向量\\glove.6B.50d.txt',encoding='utf-8')\n",
    "for line in f:\n",
    "    values=line.split()\n",
    "    word=values[0]\n",
    "    coefs=np.asarray(values[1:],dtype='float32')\n",
    "    word_embeddings[word]=coefs\n",
    "f.close()"
   ]
  },
  {
   "cell_type": "code",
   "execution_count": 103,
   "metadata": {
    "collapsed": true,
    "jupyter": {
     "outputs_hidden": true
    }
   },
   "outputs": [
    {
     "data": {
      "text/plain": [
       "['Maria Sharapova basically friends tennis players WTA Tour',\n",
       " 'The Russian player problems openly speaking recent interview said I really hide feelings much',\n",
       " 'I think everyone knows job',\n",
       " 'When I courts I court playing I competitor I want beat every single person whether locker room across net So I one strike conversation weather know next minutes I go try win tennis match',\n",
       " 'I pretty competitive girl',\n",
       " 'I say hellos I sending players flowers well',\n",
       " 'Uhm I really friendly close many players',\n",
       " 'I lot friends away courts',\n",
       " 'When said really close lot players something strategic',\n",
       " 'Is different men tour women tour',\n",
       " 'No',\n",
       " 'I think sport mean friends everyone categorized tennis player going get along tennis players',\n",
       " 'I think every person different interests',\n",
       " 'I friends completely different jobs interests I met different parts life',\n",
       " 'I think everyone thinks tennis players greatest friends',\n",
       " 'But ultimately tennis small part',\n",
       " 'There many things interested',\n",
       " 'BASEL Switzerland AP Roger Federer advanced th Swiss Indoors final career beating seventh seeded Daniil Medvedev Saturday',\n",
       " 'Seeking ninth title hometown event th overall Federer play th ranked Marius Copil Sunday',\n",
       " 'Federer dominated th ranked Medvedev first match point chance break serve',\n",
       " 'He dropped serve love let another match point slip Medvedev next service game netting backhand',\n",
       " 'He clinched fourth chance Medvedev netted baseline',\n",
       " 'Copil upset expectations Federer final Alexander Zverev win fifth ranked German earlier semifinal',\n",
       " 'The Romanian aims first title arriving Basel without career win top opponent',\n",
       " 'Copil two also beating No',\n",
       " 'Marin Cilic second round',\n",
       " 'Copil fired aces past Zverev never dropped serve clinching hours forehand volley winner break Zverev second time semifinal',\n",
       " 'He came two rounds qualifying last weekend reach Basel main draw including beating Zverev older brother Mischa',\n",
       " 'Federer easier time previous match Medvedev three setter Shanghai two weeks ago',\n",
       " 'Roger Federer revealed organisers launched condensed Davis Cup gave three days decide would commit controversial competition',\n",
       " 'Speaking Swiss Indoors tournament play Sundays final Romanian qualifier Marius Copil world number three said given impossibly short time frame make decision opted commitment',\n",
       " 'They left three days decide Federer said',\n",
       " 'I time consult people I consult',\n",
       " 'I could make decision time I told wanted',\n",
       " 'The time Grand Slam champion voiced doubts wisdom one week format introduced organisers Kosmos promised International Tennis Federation billion prize money next quarter century',\n",
       " 'The competition set feature countries November finals Madrid next year replace classic home away ties played four times per year decades',\n",
       " 'Kosmos headed Barcelona footballer Gerard Pique hoping fellow Spaniard Rafael Nadal play upcoming event',\n",
       " 'Novak Djokovic said give precedence ATP intended launch defunct World Team Cup January various Australian venues',\n",
       " 'Major players feel big event late November combined one January Australian Open mean much tennis little rest',\n",
       " 'Federer said earlier month Shanghai chances playing Davis Cup non existent',\n",
       " 'I highly doubt course',\n",
       " 'We see happens said',\n",
       " 'I think designed anyhow',\n",
       " 'This designed future generation players',\n",
       " 'Argentina Britain received wild cards new look event compete along four semi finalists teams win qualifying rounds next February',\n",
       " 'I like kind pressure Federer said deadline Kosmos handed',\n",
       " 'Kei Nishikori try end long losing streak ATP finals Kevin Anderson go second title year Erste Bank Open Sunday',\n",
       " 'The fifth seeded Nishikori reached third final beating Mikhail Kukushkin Kazakhstan semifinals',\n",
       " 'A winner ATP events Nishikori triumphed since winning Memphis February',\n",
       " 'He lost eight straight finals since',\n",
       " 'The second seeded Anderson defeated Fernando Verdasco',\n",
       " 'Anderson shot fifth career title second year winning New York February',\n",
       " 'Nishikori leads Anderson career matchups South African previous meeting year',\n",
       " 'With victory Sunday Anderson qualify ATP Finals',\n",
       " 'Currently ninth place Nishikori win could move within points cut eight man event London next month',\n",
       " 'Nishikori held serve throughout Kukushkin came qualifying',\n",
       " 'He used first break point close first set going second wrapping win first match point',\n",
       " 'Against Verdasco Anderson hit nine aces opening set',\n",
       " 'The Spaniard broke Anderson twice second get another chance South African serve final set',\n",
       " 'Federer first broke tour two decades ago since gone enjoy glittering career',\n",
       " 'The time Grand Slam winner chasing th ATP title Swiss Indoors week faces Jan Lennard Struff second round Thursday pm BST',\n",
       " 'Davenport enjoyed success late third final major tournament win came Australian Open',\n",
       " 'But claims mentality professional tennis players slowly began change new millennium',\n",
       " 'It seems pretty friendly right said Davenport',\n",
       " 'I think really nice environment great atmosphere especially veteran players helping younger players',\n",
       " 'It pleasant atmosphere I say around locker rooms',\n",
       " 'I felt like best weeks I get know players I playing Fed Cup weeks Olympic weeks necessarily tournaments',\n",
       " 'And even though maybe smaller teams I still think kept quite bit',\n",
       " 'Not always I really feel like mid years huge shift attitudes top players friendly giving lot players like Roger coming',\n",
       " 'I felt like really kind changed people little bit definitely lot quiet started become better',\n",
       " 'Meanwhile Federer hoping improve service game hunts ninth Swiss Indoors title week',\n",
       " 'I serve well first round opponent Filip Kranjovic Federer said',\n",
       " 'I think I misfiring corners I hitting lines enough',\n",
       " 'Clearly make life difficult still I break points things could ended quickly today even though I best serve percentage stats',\n",
       " 'But maybe exactly caught eventually',\n",
       " 'It getting used',\n",
       " 'This first rounds tricky',\n",
       " 'Nadal played tennis since forced retire US Open semi finals Juan Martin Del Porto knee injury',\n",
       " 'The world No forced miss Spain Davis Cup clash France Asian hard court season',\n",
       " 'But ATP World Tour Finals due begin next month Nadal ready prove fitness season ending event Arena',\n",
       " 'Nadal flew Paris Friday footage Paris Masters official Twitter account shows Spaniard smiling strides onto court practice',\n",
       " 'The Paris Masters draw made Nadal start campaign Tuesday Wednesday either Fernando Verdasco Jeremy Chardy',\n",
       " 'Nadal could play defending champion Jack Sock third round potential quarter final either Borna Coric Dominic Thiem',\n",
       " 'Nadal appearance Paris big boost tournament organisers could see Roger Federer withdraw',\n",
       " 'Federer action Swiss Indoors Basel reaches final could pull Paris bid stay fresh London',\n",
       " 'But stands Federer draw scheduled face either former world No Milos Raonic Jo Wilfried Tsonga second round',\n",
       " 'Federer projected route Paris final could also lead matches Kevin Anderson Novak Djokovic',\n",
       " 'Djokovic could play Marco Cecchinato second round',\n",
       " 'British No Kyle Edmund th seed Paris get underway round two either Karen Khachanov Filip Krajinovic',\n",
       " 'Tennis giveth tennis taketh away',\n",
       " 'The end season finally sight many players defending losing huge chunks points Singapore Zhuhai London podcast co hosts Nina Pantic Irina Falconi discuss art defending points',\n",
       " 'It secret Jack Sock struggled singles court year record',\n",
       " 'He could lose points next weeks instead focusing negative perspective',\n",
       " 'Let also forget two Grand Slam doubles triumphs season',\n",
       " 'Two players Stefanos Tsitsipas Kyle Edmund first career ATP titles last week',\n",
       " 'It big deal never forget first',\n",
       " 'Irina looks back WTA title win Bogota tells unforgettable story semifinal drama',\n",
       " 'In Singapore one biggest storylines aside matches course court coaching debate',\n",
       " 'Nina Irina give opinions coaching look like future tours',\n",
       " 'Federer Swiss Indoors last week beating Romanian qualifier Marius Copil final',\n",
       " 'The year old claimed th ATP title hunting century French capital week',\n",
       " 'Federer handed difficult draw could could come across Kevin Anderson Novak Djokovic Rafael Nadal latter rounds',\n",
       " 'But first time Grand Slam winner wants train Paris Masters court afternoon deciding whether appear opening match either Milos Raonic Jo Wilfried Tsonga',\n",
       " 'On Monday I free look I feel Federer said winning Swiss Indoors',\n",
       " 'On Tuesday I fly Paris train afternoon ready first match Wednesday night',\n",
       " 'I felt good week better every day',\n",
       " 'We also impression stage might better play matches train',\n",
       " 'And long I fear injury I play',\n",
       " 'Federer success Basel last week ninth time hometown tournament',\n",
       " 'And delighted watched family friends purchased tickets final dearest',\n",
       " 'My children parents sister team Federer added',\n",
       " 'It always emotional thank team',\n",
       " 'And sometimes tilts emotions sometimes I stumble',\n",
       " 'It means world',\n",
       " 'It makes incredibly happy win home tournament make people happy',\n",
       " 'I know maybe last title today I try lot absorb enjoy moments much consciously',\n",
       " 'Maybe I celebrate last title',\n",
       " 'There touching moments seeing ball children standing ovations familiar faces audience',\n",
       " 'Because always easy last weeks']"
      ]
     },
     "execution_count": 103,
     "metadata": {},
     "output_type": "execute_result"
    }
   ],
   "source": [
    "clean_sentences"
   ]
  },
  {
   "cell_type": "code",
   "execution_count": 105,
   "metadata": {},
   "outputs": [],
   "source": [
    "sentence_vectors=[]\n",
    "for i in clean_sentences:\n",
    "    if len(i) !=0:\n",
    "        v=sum([word_embeddings.get(w,np.zeros((50,))) for w in i.split()])/(len(i.split())+0.001)\n",
    "    else:\n",
    "        v=np.zeros((50,))\n",
    "    sentence_vectors.append(v)"
   ]
  },
  {
   "cell_type": "code",
   "execution_count": 106,
   "metadata": {},
   "outputs": [
    {
     "data": {
      "text/plain": [
       "119"
      ]
     },
     "execution_count": 106,
     "metadata": {},
     "output_type": "execute_result"
    }
   ],
   "source": [
    "len(sentence_vectors)"
   ]
  },
  {
   "cell_type": "code",
   "execution_count": 108,
   "metadata": {},
   "outputs": [],
   "source": [
    "#similarity matrix\n",
    "sim_mat=np.zeros([len(sentences),len(sentences)])"
   ]
  },
  {
   "cell_type": "code",
   "execution_count": 109,
   "metadata": {},
   "outputs": [],
   "source": [
    "from sklearn.metrics.pairwise import cosine_similarity"
   ]
  },
  {
   "cell_type": "code",
   "execution_count": 110,
   "metadata": {},
   "outputs": [
    {
     "data": {
      "text/plain": [
       "array([[0.89011891]])"
      ]
     },
     "execution_count": 110,
     "metadata": {},
     "output_type": "execute_result"
    }
   ],
   "source": [
    "cosine_similarity(sentence_vectors[1].reshape(1,50),sentence_vectors[2].reshape(1,50))"
   ]
  },
  {
   "cell_type": "code",
   "execution_count": 111,
   "metadata": {},
   "outputs": [],
   "source": [
    "for i in range(len(sentences)):\n",
    "    for j in range(len(sentences)):\n",
    "        if i !=j:\n",
    "            sim_mat[i,j]=cosine_similarity(sentence_vectors[i].reshape(1,50),sentence_vectors[j].reshape(1,50))[0,0]"
   ]
  },
  {
   "cell_type": "code",
   "execution_count": 114,
   "metadata": {},
   "outputs": [],
   "source": [
    "import networkx as nx\n",
    "nx_graph =nx.from_numpy_array(sim_mat)\n",
    "scores=nx.pagerank(nx_graph)"
   ]
  },
  {
   "cell_type": "code",
   "execution_count": 116,
   "metadata": {},
   "outputs": [],
   "source": [
    "ranked_sentences=sorted(((scores[i],s) for i,s in enumerate(sentences)),reverse=True)"
   ]
  },
  {
   "cell_type": "code",
   "execution_count": 118,
   "metadata": {
    "collapsed": true,
    "jupyter": {
     "outputs_hidden": true
    }
   },
   "outputs": [
    {
     "data": {
      "text/plain": [
       "[(0.00920752178637705,\n",
       "  \"When I'm on the courts or when I'm on the court playing, I'm a competitor and I want to beat every single person whether they're in the locker room or across the net.So I'm not the one to strike up a conversation about the weather and know that in the next few minutes I have to go and try to win a tennis match.\"),\n",
       " (0.009204776384448126,\n",
       "  'Speaking at the Swiss Indoors tournament where he will play in Sundays final against Romanian qualifier Marius Copil, the world number three said that given the impossibly short time frame to make a decision, he opted out of any commitment.'),\n",
       " (0.009153406152764871,\n",
       "  'Major players feel that a big event in late November combined with one in January before the Australian Open will mean too much tennis and too little rest.'),\n",
       " (0.009119054496741582,\n",
       "  '\"We also had the impression that at this stage it might be better to play matches than to train.'),\n",
       " (0.009110260552167597, 'Because it was not always easy in the last weeks.\"'),\n",
       " (0.009107287926799944,\n",
       "  'Currently in ninth place, Nishikori with a win could move to within 125 points of the cut for the eight-man event in London next month.'),\n",
       " (0.009101214722283372,\n",
       "  'But first the 20-time Grand Slam winner wants to train on the Paris Masters court this afternoon before deciding whether to appear for his opening match against either Milos Raonic or Jo-Wilfried Tsonga.'),\n",
       " (0.009099979951712779,\n",
       "  'The end of the season is finally in sight, and with so many players defending,or losing,huge chunks of points in Singapore, Zhuhai and London, podcast co-hosts Nina Pantic and Irina Falconi discuss the art of defending points (02:14).'),\n",
       " (0.009077696315661141,\n",
       "  \"The Spaniard broke Anderson twice in the second but didn't get another chance on the South African's serve in the final set.\"),\n",
       " (0.009073767043132537,\n",
       "  '\"Clearly you make your life more difficult, but still I was up 6-2, 3-1, break points, so things could have ended very quickly today, even though I didn\\'t have the best serve percentage stats.'),\n",
       " (0.009062208898789652,\n",
       "  '\"I felt like the best weeks that I had to get to know players when I was playing were the Fed Cup weeks or the Olympic weeks, not necessarily during the tournaments.'),\n",
       " (0.009061219588800842,\n",
       "  'He used his first break point to close out the first set before going up 3-0 in the second and wrapping up the win on his first match point.'),\n",
       " (0.009029292719988907,\n",
       "  'Federer has been handed a difficult draw where could could come across Kevin Anderson, Novak Djokovic and Rafael Nadal in the latter rounds.'),\n",
       " (0.0090203291140661,\n",
       "  \"The world No 1 has been forced to miss Spain's Davis Cup clash with France and the Asian hard court season.\"),\n",
       " (0.009018522093654483,\n",
       "  'Djokovic could play Marco Cecchinato in the second round.'),\n",
       " (0.009014650219523605,\n",
       "  'But as it stands, Federer is in the draw and is scheduled to face either former world No 3 Milos Raonic or Jo-Wilfried Tsonga in the second round.'),\n",
       " (0.009004186650724614,\n",
       "  'Federer had an easier time than in his only previous match against Medvedev, a three-setter at Shanghai two weeks ago.'),\n",
       " (0.009003480309673075,\n",
       "  'The competition is set to feature 18 countries in the November 18-24 finals in Madrid next year, and will replace the classic home-and-away ties played four times per year for decades.'),\n",
       " (0.008990075150235451,\n",
       "  'The Romanian aims for a first title after arriving at Basel without a career win over a top-10 opponent.'),\n",
       " (0.00898262076887645,\n",
       "  \"He came through two rounds of qualifying last weekend to reach the Basel main draw, including beating Zverev's older brother, Mischa.\"),\n",
       " (0.00897914291094163,\n",
       "  'Kei Nishikori will try to end his long losing streak in ATP finals and Kevin Anderson will go for his second title of the year at the Erste Bank Open on Sunday.'),\n",
       " (0.008978366923939829,\n",
       "  '\"Not always, but I really feel like in the mid-2000 years there was a huge shift of the attitudes of the top players and being more friendly and being more giving, and a lot of that had to do with players like Roger coming up.'),\n",
       " (0.008976634910379713,\n",
       "  '\"I didn\\'t serve very well [against first-round opponent Filip Kranjovic,\" Federer said.'),\n",
       " (0.00897459195979531, \"It's a big deal because you never forget your first.\"),\n",
       " (0.008946044721749423,\n",
       "  \"Uhm, I'm not really friendly or close to many players.\"),\n",
       " (0.008935366245758367, '\"I felt good all week and better every day.'),\n",
       " (0.00893059627796501,\n",
       "  'It makes me incredibly happy to win my home tournament and make people happy here.'),\n",
       " (0.008926078592037144,\n",
       "  'The Paris Masters draw has been made and Nadal will start his campaign on Tuesday or Wednesday against either Fernando Verdasco or Jeremy Chardy.'),\n",
       " (0.008916633208916698,\n",
       "  'Nadal could then play defending champion Jack Sock in the third round before a potential quarter-final with either Borna Coric or Dominic Thiem.'),\n",
       " (0.00889188360695599,\n",
       "  'Argentina and Britain received wild cards to the new-look event, and will compete along with the four 2018 semi-finalists and the 12 teams who win qualifying rounds next February.'),\n",
       " (0.008879062278524301,\n",
       "  'Meanwhile, Federer is hoping he can improve his service game as he hunts his ninth Swiss Indoors title this week.'),\n",
       " (0.008878947205658672,\n",
       "  'But she claims the mentality of professional tennis players slowly began to change after the new millennium.'),\n",
       " (0.008870288758146576,\n",
       "  'He could lose 1,400 points in the next few weeks, but instead of focusing on the negative, it can all be about perspective (06:28).'),\n",
       " (0.008860141581998642,\n",
       "  '\"On Monday, I am free and will look how I feel,\" Federer said after winning the Swiss Indoors.'),\n",
       " (0.008851016670138169,\n",
       "  \"Federer's projected route to the Paris final could also lead to matches against Kevin Anderson and Novak Djokovic.\"),\n",
       " (0.008846210063768041,\n",
       "  \"He then dropped his serve to love, and let another match point slip in Medvedev's next service game by netting a backhand.\"),\n",
       " (0.008842505754231848,\n",
       "  'Federer dominated the 20th-ranked Medvedev and had his first match-point chance to break serve again at 5-1.'),\n",
       " (0.008832567670104916,\n",
       "  'In Singapore, one of the biggest storylines (aside from the matches, of course) has been the on-court coaching debate.'),\n",
       " (0.008828938336657878,\n",
       "  'Davenport enjoyed most of her success in the late 1990s and her third and final major tournament win came at the 2000 Australian Open.'),\n",
       " (0.008825697311130198,\n",
       "  \"Federer's success in Basel last week was the ninth time he has won his hometown tournament.\"),\n",
       " (0.00880875016002709,\n",
       "  'The 20-time Grand Slam champion has voiced doubts about the wisdom of the one-week format to be introduced by organisers Kosmos, who have promised the International Tennis Federation up to $3 billion in prize money over the next quarter-century.'),\n",
       " (0.008801221993635866,\n",
       "  \"Nadal's appearance in Paris is a big boost to the tournament organisers who could see Roger Federer withdraw.\"),\n",
       " (0.008792836051591332,\n",
       "  'But with the ATP World Tour Finals due to begin next month, Nadal is ready to prove his fitness before the season-ending event at the 02 Arena.'),\n",
       " (0.008787206554013433,\n",
       "  \"I think just because you're in the same sport doesn't mean that you have to be friends with everyone just because you're categorized, you're a tennis player, so you're going to get along with tennis players.\"),\n",
       " (0.008783723887314708,\n",
       "  '\"I do not know if it\\'s maybe my last title, so today I try a lot more to absorb that and enjoy the moments much more consciously.'),\n",
       " (0.008782796461385248,\n",
       "  'Federer, 37, first broke through on tour over two decades ago and he has since gone on to enjoy a glittering career.'),\n",
       " (0.008778611975910051,\n",
       "  'British No 1 Kyle Edmund is the 12th seed in Paris and will get underway in round two against either Karen Khachanov or Filip Krajinovic.'),\n",
       " (0.008768191475704462,\n",
       "  '\"And even though maybe we had smaller teams, I still think we kept to ourselves quite a bit.'),\n",
       " (0.008762088653292288,\n",
       "  'Nishikori held serve throughout against Kukushkin, who came through qualifying.'),\n",
       " (0.008747787955687909,\n",
       "  'Two players, Stefanos Tsitsipas and Kyle Edmund, won their first career ATP titles last week (13:26).'),\n",
       " (0.00868041603232053,\n",
       "  '\"I think there is a really nice environment and a great atmosphere, especially between some of the veteran players helping some of the younger players out.'),\n",
       " (0.008672996216078588,\n",
       "  'Federer is in action at the Swiss Indoors in Basel and if he reaches the final, he could pull out of Paris in a bid to stay fresh for London.'),\n",
       " (0.008644284789285599,\n",
       "  'Roger Federer has revealed that organisers of the re-launched and condensed Davis Cup gave him three days to decide if he would commit to the controversial competition.'),\n",
       " (0.008632670291535078, 'Copil has two after also beating No.'),\n",
       " (0.008631277027645483,\n",
       "  'Federer said earlier this month in Shanghai in that his chances of playing the Davis Cup were all but non-existent.'),\n",
       " (0.008629454629642106,\n",
       "  \"It's no secret that Jack Sock has struggled on the singles court this year (his record is 7-19).\"),\n",
       " (0.008624530807626275,\n",
       "  'But ultimately tennis is just a very small part of what we do.'),\n",
       " (0.008619073984708809,\n",
       "  'When she said she is not really close to a lot of players, is that something strategic that she is doing?'),\n",
       " (0.008609839590410293,\n",
       "  '\"I could not make a decision in that time, so I told them to do what they wanted.\"'),\n",
       " (0.008604656614015768,\n",
       "  \"Let's also not forget his two Grand Slam doubles triumphs this season.\"),\n",
       " (0.008601362571955372,\n",
       "  '\"They only left me three days to decide\", Federer said.'),\n",
       " (0.008597687868775397,\n",
       "  '\"On Tuesday I will fly to Paris and train in the afternoon to be ready for my first match on Wednesday night.'),\n",
       " (0.008595274718941167, '\"And as long as I fear no injury, I play.\"'),\n",
       " (0.0085650720519931,\n",
       "  'The 20-time Grand Slam winner is chasing his 99th ATP title at the Swiss Indoors this week and he faces Jan-Lennard Struff in the second round on Thursday (6pm BST).'),\n",
       " (0.00852759020206307,\n",
       "  '\"I don\\'t like being under that kind of pressure,\" Federer said of the deadline Kosmos handed him.'),\n",
       " (0.008511155688884104, 'He has lost eight straight finals since.'),\n",
       " (0.008503300779588514,\n",
       "  'Nina and Irina give their opinions on what coaching should look like in the future, on both tours (18:55).'),\n",
       " (0.008497037893085346,\n",
       "  '\"I just felt like it really kind of changed where people were a little bit, definitely in the 90s, a lot more quiet, into themselves, and then it started to become better.\"'),\n",
       " (0.008472075573883383,\n",
       "  \"I think everyone just thinks because we're tennis players we should be the greatest of friends.\"),\n",
       " (0.008441284344319696,\n",
       "  '\"But maybe that\\'s exactly what caught up to me eventually.'),\n",
       " (0.00843200933234116,\n",
       "  \"The Russian player has no problems in openly speaking about it and in a recent interview she said: 'I don't really hide any feelings too much.\"),\n",
       " (0.008421241275266892,\n",
       "  'Nishikori leads Anderson 4-2 on career matchups, but the South African won their only previous meeting this year.'),\n",
       " (0.00841920346503479, \"I have not a lot of friends away from the courts.'\"),\n",
       " (0.008416975900425899,\n",
       "  'The 37-year-old claimed his 99th ATP title and is hunting the century in the French capital this week.'),\n",
       " (0.008412608497467592,\n",
       "  'Maria Sharapova has basically no friends as tennis players on the WTA Tour.'),\n",
       " (0.008401601584035885, '\"It means the world to me.'),\n",
       " (0.008397676943495185,\n",
       "  'Copil fired 26 aces past Zverev and never dropped serve, clinching after 2 1/2 hours with a forehand volley winner to break Zverev for the second time in the semifinal.'),\n",
       " (0.008383696032667268,\n",
       "  'Kosmos is headed by Barcelona footballer Gerard Pique, who is hoping fellow Spaniard Rafael Nadal will play in the upcoming event.'),\n",
       " (0.008382004575525655,\n",
       "  'Anderson has a shot at a fifth career title and second of the year after winning in New York in February.'),\n",
       " (0.008376366670224915,\n",
       "  'Irina looks back at her WTA title win in Bogota in 2016, and tells an unforgettable story about her semifinal drama (14:04).'),\n",
       " (0.0083718500876741, '\"It seems pretty friendly right now,\" said Davenport.'),\n",
       " (0.008332448490124116,\n",
       "  '\"It is always very emotional for me to thank my team.'),\n",
       " (0.008279668991546998, '\"I highly doubt it, of course.'),\n",
       " (0.008264454226587779, 'I think every person has different interests.'),\n",
       " (0.008243659762817141,\n",
       "  '\"Maybe I should celebrate as if it were my last title.'),\n",
       " (0.008232772161886951,\n",
       "  'Nadal flew to Paris on Friday and footage from the Paris Masters official Twitter account shows the Spaniard smiling as he strides onto court for practice.'),\n",
       " (0.008230009074251044,\n",
       "  \"Is it different on the men's tour than the women's tour?\"),\n",
       " (0.008217743975423372,\n",
       "  \"I have friends that have completely different jobs and interests, and I've met them in very different parts of my life.\"),\n",
       " (0.008207363423920366,\n",
       "  'Copil upset expectations of a Federer final against Alexander Zverev in a 6-3, 6-7 (6), 6-4 win over the fifth-ranked German in the earlier semifinal.'),\n",
       " (0.008182088115134711, '6 Marin Cilic in the second round.'),\n",
       " (0.008155270548542091, \"It's just getting used to it.\"),\n",
       " (0.008139460427870341,\n",
       "  'Federer won the Swiss Indoors last week by beating Romanian qualifier Marius Copil in the final.'),\n",
       " (0.008129916390906062, 'This is where the first rounds can be tricky.\"'),\n",
       " (0.008129575519792532,\n",
       "  'This was designed for the future generation of players.\"'),\n",
       " (0.008118684710216218,\n",
       "  'Against Verdasco, Anderson hit nine of his 19 aces in the opening set.'),\n",
       " (0.008101461830971442,\n",
       "  'Nadal has not played tennis since he was forced to retire from the US Open semi-finals against Juan Martin Del Porto with a knee injury.'),\n",
       " (0.008095772823967628,\n",
       "  \"I say my hellos, but I'm not sending any players flowers as well.\"),\n",
       " (0.008084685784482785,\n",
       "  \"A winner of 11 ATP events, Nishikori hasn't triumphed since winning in Memphis in February 2016.\"),\n",
       " (0.008055984747710717,\n",
       "  '\"I think I was misfiring the corners, I was not hitting the lines enough.'),\n",
       " (0.00805440646826355,\n",
       "  \"Novak Djokovic has said he will give precedence to the ATP's intended re-launch of the defunct World Team Cup in January 2020, at various Australian venues.\"),\n",
       " (0.008040437468894495,\n",
       "  '\"There are very touching moments: seeing the ball children, the standing ovations, all the familiar faces in the audience.'),\n",
       " (0.007993757191631442, 'I think everyone knows this is my job here.'),\n",
       " (0.007967790781057471,\n",
       "  \"There are so many other things that we're interested in, that we do.'\"),\n",
       " (0.007940209729870085,\n",
       "  '\"My children, my parents, my sister and my team are all there,\" Federer added.'),\n",
       " (0.007819721199658791, \"I'm a pretty competitive girl.\"),\n",
       " (0.007803446387658171, 'We will see what happens,\" he said.'),\n",
       " (0.007786364744049098,\n",
       "  'And he was delighted to be watched on by all of his family and friends as he purchased 60 tickets for the final for those dearest to him.'),\n",
       " (0.00778201856128897,\n",
       "  'Seeking a ninth title at his hometown event, and a 99th overall, Federer will play 93th-ranked Marius Copil on Sunday.'),\n",
       " (0.007662925094032297,\n",
       "  'BASEL, Switzerland (AP), Roger Federer advanced to the 14th Swiss Indoors final of his career by beating seventh-seeded Daniil Medvedev 6-1, 6-4 on Saturday.'),\n",
       " (0.007631932695344326,\n",
       "  'The fifth-seeded Nishikori reached his third final of 2018 after beating Mikhail Kukushkin of Kazakhstan 6-4, 6-3 in the semifinals.'),\n",
       " (0.007412032423572682,\n",
       "  '\"I didn\\'t to have time to consult with all the people I had to consult.'),\n",
       " (0.007330664575242608,\n",
       "  'He clinched on his fourth chance when Medvedev netted from the baseline.'),\n",
       " (0.0073230656364989075,\n",
       "  '\"It\\'s a very pleasant atmosphere, I\\'d have to say, around the locker rooms.'),\n",
       " (0.007298701692805735,\n",
       "  'With a victory on Sunday, Anderson will qualify for the ATP Finals.'),\n",
       " (0.007179834435703097, '\"I do not think this was designed for me, anyhow.'),\n",
       " (0.0065246038574338205,\n",
       "  'The second-seeded Anderson defeated Fernando Verdasco 6-3, 3-6, 6-4.'),\n",
       " (0.006438202248617644,\n",
       "  'And sometimes it tilts with the emotions, sometimes I just stumble.'),\n",
       " (0.004237531580514947, 'Tennis giveth, and tennis taketh away.'),\n",
       " (0.0012695751770095795, \"'No, not at all.\")]"
      ]
     },
     "execution_count": 118,
     "metadata": {},
     "output_type": "execute_result"
    }
   ],
   "source": [
    "ranked_sentences"
   ]
  },
  {
   "cell_type": "code",
   "execution_count": 117,
   "metadata": {},
   "outputs": [
    {
     "name": "stdout",
     "output_type": "stream",
     "text": [
      "When I'm on the courts or when I'm on the court playing, I'm a competitor and I want to beat every single person whether they're in the locker room or across the net.So I'm not the one to strike up a conversation about the weather and know that in the next few minutes I have to go and try to win a tennis match.\n",
      "Speaking at the Swiss Indoors tournament where he will play in Sundays final against Romanian qualifier Marius Copil, the world number three said that given the impossibly short time frame to make a decision, he opted out of any commitment.\n",
      "Major players feel that a big event in late November combined with one in January before the Australian Open will mean too much tennis and too little rest.\n"
     ]
    }
   ],
   "source": [
    "#specify number of sentences to form the summary\n",
    "sn=3\n",
    "\n",
    "#Generator summary\n",
    "for i in range(sn):\n",
    "    print(ranked_sentences[i][1])"
   ]
  },
  {
   "cell_type": "code",
   "execution_count": null,
   "metadata": {},
   "outputs": [],
   "source": []
  }
 ],
 "metadata": {
  "kernelspec": {
   "display_name": "tensorflow2.0-cpu",
   "language": "python",
   "name": "tensorflow2.0-cpu"
  },
  "language_info": {
   "codemirror_mode": {
    "name": "ipython",
    "version": 3
   },
   "file_extension": ".py",
   "mimetype": "text/x-python",
   "name": "python",
   "nbconvert_exporter": "python",
   "pygments_lexer": "ipython3",
   "version": "3.8.5"
  }
 },
 "nbformat": 4,
 "nbformat_minor": 4
}
